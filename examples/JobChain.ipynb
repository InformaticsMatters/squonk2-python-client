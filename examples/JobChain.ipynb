{
 "cells": [
  {
   "cell_type": "code",
   "execution_count": null,
   "metadata": {},
   "outputs": [],
   "source": [
    "%%capture\n",
    "# This notebook is based on the Informatics Matters Squonk2 Python Client.\n",
    "# It's a package with authentication and wrappers around the Data Manager and Account Server APIs.\n",
    "# The easiest way to use this package is with an 'environments' file -\n",
    "# a YAML file that \"describes\" your Squonk2 installation.\n",
    "import sys\n",
    "!{sys.executable} -m pip install --upgrade pip\n",
    "# Optionally, remove the existing Squonk2 client,\n",
    "# to force an installation of the latest\n",
    "#!{sys.executable} -m pip uninstall im-squonk2-client -y\n",
    "!{sys.executable} -m pip install im-squonk2-client~=1.17"
   ]
  },
  {
   "cell_type": "code",
   "execution_count": null,
   "metadata": {},
   "outputs": [],
   "source": [
    "# Import the 'job_chain' module from the examples in the Squonk2 API.\n",
    "# This module simplifies the execution of Jobs and also allows us\n",
    "# to run more than one Job, sequentially.\n",
    "from squonk2.examples.data_manager import job_chain"
   ]
  },
  {
   "cell_type": "code",
   "execution_count": null,
   "metadata": {},
   "outputs": [],
   "source": [
    "# To run Jobs using the API we need our \"Project\".\n",
    "# This is set for us by the Data Manager using an environment variable.\n",
    "project = os.environ[\"DM_PROJECT_ID\"]"
   ]
  },
  {
   "cell_type": "code",
   "execution_count": 10,
   "metadata": {},
   "outputs": [],
   "source": [
    "# To use the Squonk2 API we can rely on a Squonk2 \"environments\" file.\n",
    "# The file is written for us by the Data Manager and is written to a\n",
    "# '.squonk2' directory in the project root. The environment is given\n",
    "# the name \"current\" (which we'll refer to later).\n",
    "import os\n",
    "os.environ[\"SQUONK2_ENVIRONMENTS_FILE\"] = \".squonk2/environments\""
   ]
  },
  {
   "cell_type": "code",
   "execution_count": null,
   "metadata": {},
   "outputs": [],
   "source": [
    "# The notebook user (owner) is set for us by the Data Manager\n",
    "# using an environment variable let's copy it to the appropriate\n",
    "# Squonk2 client environment variable.\n",
    "# You can (of course) apply any user account,\n",
    "# we use the instance owner because it's conveniently provided for us.\n",
    "os.environ[\"SQUONK2_ENVIRONMENT_CURRENT_ADMIN_USER\"] = os.environ[\"DM_INSTANCE_OWNER\"]\n",
    "# Prompt for an API password (for the chosen user).\n",
    "# This is not known by the Data Manager - we have to set it.\n",
    "import getpass\n",
    "password = getpass.getpass(\"Enter the instance owner password: \")\n",
    "os.environ[\"SQUONK2_ENVIRONMENT_CURRENT_ADMIN_PASSWORD\"] = password"
   ]
  },
  {
   "cell_type": "code",
   "execution_count": 14,
   "metadata": {},
   "outputs": [],
   "source": [
    "# Now define a list of Jobs.\n",
    "# Each has a \"name\", an optional \"wait_time_m\" (minutes), and a \"specification\".\n",
    "jobs = []\n",
    "jobs.append({\"name\": \"Job A\", \"wait_time_m\": 2.0, \"specification\": {\"collection\": \"im-test\", \"job\": \"event-test\", \"version\": \"1.0.0\"}})\n",
    "jobs.append({\"name\": \"Job B\", \"wait_time_m\": 2.0, \"specification\": {\"collection\": \"im-test\", \"job\": \"coin-test\", \"version\": \"1.0.0\"}})"
   ]
  },
  {
   "cell_type": "code",
   "execution_count": null,
   "metadata": {
    "scrolled": true
   },
   "outputs": [],
   "source": [
    "# Run the job sequence.\n",
    "# If you want to avoid automatically deleting the Job instance objects\n",
    "# (and the instance directories) set \"delete\" to False.\n",
    "delete = True\n",
    "job_chain.run(project=project, jobs=jobs, environment=\"current\", delete=delete)"
   ]
  }
 ],
 "metadata": {
  "kernelspec": {
   "display_name": "Python 3",
   "language": "python",
   "name": "python3"
  },
  "language_info": {
   "codemirror_mode": {
    "name": "ipython",
    "version": 3
   },
   "file_extension": ".py",
   "mimetype": "text/x-python",
   "name": "python",
   "nbconvert_exporter": "python",
   "pygments_lexer": "ipython3",
   "version": "3.7.6"
  },
  "vscode": {
   "interpreter": {
    "hash": "e02eff9fa01d96ade236ed7d183ea05cdeabdedd86722ffe8559924d7ea3fd4b"
   }
  }
 },
 "nbformat": 4,
 "nbformat_minor": 4
}
