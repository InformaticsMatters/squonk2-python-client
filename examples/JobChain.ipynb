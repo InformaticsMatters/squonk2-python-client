{
 "cells": [
  {
   "cell_type": "code",
   "execution_count": null,
   "metadata": {},
   "outputs": [],
   "source": [
    "%%capture\n",
    "# This notebook is based on the Informatics Matters Squonk2 Python Client.\n",
    "# It's a package with authentication and wrappers around the Data Manager and Account Server APIs.\n",
    "# The easiest way to use this package is with an 'environments' file -\n",
    "# a YAML file that \"describes\" your Squonk2 installation.\n",
    "import sys\n",
    "!{sys.executable} -m pip install --upgrade pip\n",
    "# Optionally, remove the existing Squonk2 client,\n",
    "# to force an installation of the latest\n",
    "#!{sys.executable} -m pip uninstall im-squonk2-client -y\n",
    "!{sys.executable} -m pip install im-squonk2-client~=1.17"
   ]
  },
  {
   "cell_type": "code",
   "execution_count": 10,
   "metadata": {},
   "outputs": [],
   "source": [
    "# Name a Squonk2 \"environments\" file.\n",
    "# Here we expect the file to be present in the root of the current directory.\n",
    "# The user is expected to have created this, it is not part of Squonk2.\n",
    "import os\n",
    "os.environ[\"SQUONK2_ENVIRONMENTS_FILE\"] = \"./environments\""
   ]
  },
  {
   "cell_type": "code",
   "execution_count": null,
   "metadata": {},
   "outputs": [],
   "source": [
    "# What Squonk2 environment will we be using?\n",
    "# This will be passed to the job_chain.run() method later.\n",
    "environment = \"dls-test\"\n",
    "# Prompt for API user and password.\n",
    "# These can put in the environments file but for added security\n",
    "# let's instead prompt for values that Squonk2 will also\n",
    "# pull from appropriately named environment variables.\n",
    "import getpass\n",
    "user = input(\"Enter your username: \")\n",
    "os.environ[\"SQUONK2_ENVIRONMENT_DLS_TEST_ADMIN_USER\"] = user\n",
    "password = getpass.getpass(\"Enter your password: \")\n",
    "os.environ[\"SQUONK2_ENVIRONMENT_DLS_TEST_ADMIN_PASSWORD\"] = password"
   ]
  },
  {
   "cell_type": "code",
   "execution_count": 12,
   "metadata": {},
   "outputs": [],
   "source": [
    "# Import a module from the examples in the Squonk2 API\n",
    "# that can be used to demonstrate the execution of a sequence of Jobs.\n",
    "from squonk2.examples.data_manager import job_chain"
   ]
  },
  {
   "cell_type": "code",
   "execution_count": 13,
   "metadata": {},
   "outputs": [],
   "source": [
    "# To run Jobs using the API we need a Data Manager \"Project\".\n",
    "project = \"project-b30067ef-d5bf-4d7f-9710-f30fecc88f14\""
   ]
  },
  {
   "cell_type": "code",
   "execution_count": 14,
   "metadata": {},
   "outputs": [],
   "source": [
    "# Now define a list of Jobs.\n",
    "# Each has a \"name\", an optional \"wait_time_m\" (minutes), and a \"specification\".\n",
    "jobs = []\n",
    "jobs.append({\"name\": \"Job A\", \"wait_time_m\": 2.0, \"specification\": {\"collection\": \"im-test\", \"job\": \"event-test\", \"version\": \"1.0.0\"}})\n",
    "jobs.append({\"name\": \"Job B\", \"wait_time_m\": 2.0, \"specification\": {\"collection\": \"im-test\", \"job\": \"coin-test\", \"version\": \"1.0.0\"}})"
   ]
  },
  {
   "cell_type": "code",
   "execution_count": null,
   "metadata": {
    "scrolled": true
   },
   "outputs": [],
   "source": [
    "# Run the job sequence.\n",
    "# If you want to avoid automatically deleting the Job instance objects\n",
    "# (and the instance directories) set \"delete\" to False.\n",
    "delete = True\n",
    "job_chain.run(project=project, jobs=jobs, environment=environment, delete=delete)"
   ]
  }
 ],
 "metadata": {
  "kernelspec": {
   "display_name": "Python 3",
   "language": "python",
   "name": "python3"
  },
  "language_info": {
   "codemirror_mode": {
    "name": "ipython",
    "version": 3
   },
   "file_extension": ".py",
   "mimetype": "text/x-python",
   "name": "python",
   "nbconvert_exporter": "python",
   "pygments_lexer": "ipython3",
   "version": "3.7.6"
  },
  "vscode": {
   "interpreter": {
    "hash": "e02eff9fa01d96ade236ed7d183ea05cdeabdedd86722ffe8559924d7ea3fd4b"
   }
  }
 },
 "nbformat": 4,
 "nbformat_minor": 4
}
