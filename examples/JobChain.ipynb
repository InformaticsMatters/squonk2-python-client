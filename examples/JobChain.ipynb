{
 "cells": [
  {
   "cell_type": "code",
   "execution_count": 1,
   "metadata": {},
   "outputs": [],
   "source": [
    "%%capture\n",
    "# This notebook is based on the Informatics Matters Squonk2 Python Client.\n",
    "# It's a package with authentication and wrappers around the Data Manager and Account Server APIs.\n",
    "# The easiest way to use this package is with an 'environments' file -\n",
    "# a YAML file that \"describes\" your Squonk2 installation.\n",
    "import sys\n",
    "!{sys.executable} -m pip install --upgrade pip\n",
    "!{sys.executable} -m pip install im-squonk2-client~=1.16"
   ]
  },
  {
   "cell_type": "code",
   "execution_count": 2,
   "metadata": {},
   "outputs": [],
   "source": [
    "# Name a Squonk2 \"environments\" file.\n",
    "# Here we expect the file to be present in the root of the current directory.\n",
    "# The user is expected to have created this, it is not part of Squonk2.\n",
    "import os\n",
    "os.environ['SQUONK2_ENVIRONMENTS_FILE'] = \"./environments\""
   ]
  },
  {
   "cell_type": "code",
   "execution_count": 3,
   "metadata": {},
   "outputs": [],
   "source": [
    "# Import a module from the examples in the Squonk2 API\n",
    "# that can be used to demonstrate the execution of a sequence of Jobs.\n",
    "from squonk2.examples.data_manager import job_chain"
   ]
  },
  {
   "cell_type": "code",
   "execution_count": 4,
   "metadata": {},
   "outputs": [],
   "source": [
    "# To run Jobs using the API you will need a Data Manager project,\n",
    "# and the name of the chosen environment in the environments file.\n",
    "project = \"project-b30067ef-d5bf-4d7f-9710-f30fecc88f14\"\n",
    "environment = \"dls-test\""
   ]
  },
  {
   "cell_type": "code",
   "execution_count": 5,
   "metadata": {},
   "outputs": [],
   "source": [
    "# Now define a list of Jobs.\n",
    "# Each has a \"name\" and a \"specification\".\n",
    "jobs = []\n",
    "jobs.append({\"name\": \"Job A\", \"specification\": {\"collection\": \"im-test\", \"job\": \"event-test\", \"version\": \"1.0.0\"}})\n",
    "jobs.append({\"name\": \"Job B\", \"specification\": {\"collection\": \"im-test\", \"job\": \"coin-test\", \"version\": \"1.0.0\"}})"
   ]
  },
  {
   "cell_type": "code",
   "execution_count": null,
   "metadata": {
    "scrolled": true
   },
   "outputs": [],
   "source": [
    "# Run the job sequence.\n",
    "# If you want to avoid automatically deleting the Job instance objects\n",
    "# (and the instance directories) set \"delete\" to False.\n",
    "delete = True\n",
    "job_chain.run(project=project, jobs=jobs, environment=environment, delete=delete)"
   ]
  },
  {
   "cell_type": "code",
   "execution_count": null,
   "metadata": {},
   "outputs": [],
   "source": []
  }
 ],
 "metadata": {
  "kernelspec": {
   "display_name": "Python 3",
   "language": "python",
   "name": "python3"
  },
  "language_info": {
   "codemirror_mode": {
    "name": "ipython",
    "version": 3
   },
   "file_extension": ".py",
   "mimetype": "text/x-python",
   "name": "python",
   "nbconvert_exporter": "python",
   "pygments_lexer": "ipython3",
   "version": "3.11.0 (main, Oct 25 2022, 14:13:24) [Clang 14.0.0 (clang-1400.0.29.202)]"
  },
  "vscode": {
   "interpreter": {
    "hash": "1a1af0ee75eeea9e2e1ee996c87e7a2b11a0bebd85af04bb136d915cefc0abce"
   }
  }
 },
 "nbformat": 4,
 "nbformat_minor": 4
}
